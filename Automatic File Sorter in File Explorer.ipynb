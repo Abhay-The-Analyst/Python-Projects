{
 "cells": [
  {
   "cell_type": "markdown",
   "id": "dc53ee60-0761-4095-9dde-4a48b2c4c377",
   "metadata": {},
   "source": [
    "# Automatic File Sorter in File Explorer"
   ]
  },
  {
   "cell_type": "code",
   "execution_count": 42,
   "id": "6b27561d-30d4-4100-ab7e-9b7b4fa5e095",
   "metadata": {},
   "outputs": [],
   "source": [
    "import os, shutil"
   ]
  },
  {
   "cell_type": "code",
   "execution_count": 43,
   "id": "20fe0174-2cc3-4329-bd23-85d6002c60a3",
   "metadata": {},
   "outputs": [],
   "source": [
    "path = r\"C:/Users/abhay/Downloads/\""
   ]
  },
  {
   "cell_type": "code",
   "execution_count": 44,
   "id": "981ae191-2c05-4b1a-9879-a3ebc12edbdf",
   "metadata": {},
   "outputs": [],
   "source": [
    "file_name = os.listdir(path)"
   ]
  },
  {
   "cell_type": "code",
   "execution_count": 68,
   "id": "3ab2f669-2507-4d33-81c3-4af623a23ee9",
   "metadata": {},
   "outputs": [],
   "source": [
    "Folder_name = [\"csv files\" , \"winRaR file\", \"Pdf file\" , \"Excel file\", \"Image file\",\"Sql file\"]\n",
    "for loop in rang e(0,6):\n",
    "    if not os.path.exists(path + Folder_name[loop]):\n",
    "        print(path + Folder_name[loop])\n",
    "        os.makedirs((path + Folder_name[loop]))\n",
    "for file in file_name:\n",
    "    if \".csv\" in file and not os.path.exists(path + \"csv files/\" + file):\n",
    "            shutil.move(path + file , path + \"csv files/\" + file)\n",
    "    elif \".zip\" in file and not os.path.exists(path + \"winRaR file/\" + file):\n",
    "            shutil.move(path + file , path + \"winRaR file/\" + file)\n",
    "    elif \" .pdf\" in file and not os.path.exists(path + \"Pdf file/\" + file):\n",
    "            shutil.move(path + file , path + \"pdf file/\" + file)\n",
    "    elif \".xlsx\" in file and not os.path.exists(path + \"Excel file/\" + file):\n",
    "            shutil.move(path + file , path + \"Excel file/\" + file)\n",
    "    elif \".jpg\" in file and not os.path.exists(path + \"Image file/\" + file):\n",
    "            shutil.move(path + file , path + \"Image file/\" + file)\n",
    "    elif \".sql\" in file and not os.path.exists( path + \"Sql file/\" + file):\n",
    "            shutil.move(path + file , path + \"Sql file/\" + file)\n",
    "    "
   ]
  },
  {
   "cell_type": "code",
   "execution_count": null,
   "id": "ce329ab1-487e-4b5a-8521-dda4c8a4c9ce",
   "metadata": {},
   "outputs": [],
   "source": []
  },
  {
   "cell_type": "code",
   "execution_count": null,
   "id": "61a16b01-34fe-43f0-a638-d5fb759675e2",
   "metadata": {},
   "outputs": [],
   "source": []
  },
  {
   "cell_type": "code",
   "execution_count": null,
   "id": "f53dadb7-cfc8-4b78-8d45-c34ec90f9244",
   "metadata": {},
   "outputs": [],
   "source": []
  },
  {
   "cell_type": "code",
   "execution_count": null,
   "id": "cde33274-7bd0-4978-a6f6-80d150f0bb8d",
   "metadata": {},
   "outputs": [],
   "source": []
  },
  {
   "cell_type": "code",
   "execution_count": null,
   "id": "64eba378-4893-4716-a97f-33150ce3657b",
   "metadata": {},
   "outputs": [],
   "source": []
  },
  {
   "cell_type": "code",
   "execution_count": null,
   "id": "155daf7e-7acd-4dda-9339-0b2a3ce7204a",
   "metadata": {},
   "outputs": [],
   "source": []
  },
  {
   "cell_type": "code",
   "execution_count": null,
   "id": "f1feac31-f6e0-46e0-baa9-cfdbbacee3ef",
   "metadata": {},
   "outputs": [],
   "source": []
  }
 ],
 "metadata": {
  "kernelspec": {
   "display_name": "Python 3 (ipykernel)",
   "language": "python",
   "name": "python3"
  },
  "language_info": {
   "codemirror_mode": {
    "name": "ipython",
    "version": 3
   },
   "file_extension": ".py",
   "mimetype": "text/x-python",
   "name": "python",
   "nbconvert_exporter": "python",
   "pygments_lexer": "ipython3",
   "version": "3.12.7"
  }
 },
 "nbformat": 4,
 "nbformat_minor": 5
}
